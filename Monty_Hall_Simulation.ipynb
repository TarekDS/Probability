{
 "cells": [
  {
   "cell_type": "markdown",
   "metadata": {},
   "source": [
    "Monty Hall Simulation\n",
    "## Author - Tariq Ayub"
   ]
  },
  {
   "cell_type": "markdown",
   "metadata": {},
   "source": [
    "Simulate the conditional probabilities of the distributions for winning a car vs. a goat for the Monty Hall Problem that includes the following:\n",
    "1. the cases for switching or not switching\n",
    "2. histograms and summary statistics (at least mean and variance) of the results for winning the car or a goat for both strategies: switching or not switching\n",
    "3. comparison of the cases to determine the best strategy\n",
    "4. recommended strategy\n",
    "\n"
   ]
  },
  {
   "cell_type": "code",
   "execution_count": 5,
   "metadata": {},
   "outputs": [
    {
     "name": "stdout",
     "output_type": "stream",
     "text": [
      "0.3333333333333333\n"
     ]
    }
   ],
   "source": [
    "#Conditional probability for each door\n",
    "p = 1/3\n",
    "print(p)"
   ]
  },
  {
   "cell_type": "code",
   "execution_count": 7,
   "metadata": {},
   "outputs": [],
   "source": [
    "#door B has the Car\n",
    "#You select door A Monte will open C\n",
    "pick_A_prob_door_c = 1\n",
    "\n",
    "#You select door B Monte will open A or B\n",
    "pick_B_prob_door_a = 0.5\n",
    "pick_B_prob_door_c = 0.5\n",
    "\n",
    "#You select door C monte will open A\n",
    "pick_C_prob_door_a = 1"
   ]
  },
  {
   "cell_type": "code",
   "execution_count": 47,
   "metadata": {},
   "outputs": [
    {
     "name": "stdout",
     "output_type": "stream",
     "text": [
      "0.3333333333333333 0.16666666666666666 0.16666666666666666 0.3333333333333333\n"
     ]
    }
   ],
   "source": [
    "#Total Probablities\n",
    "Total_pick_A_prob_door_c = pick_A_prob_door_c*p\n",
    "Total_pick_B_prob_door_a = pick_B_prob_door_a*p\n",
    "Total_pick_B_prob_door_c = pick_B_prob_door_c*p\n",
    "Total_pick_C_prob_door_a = pick_C_prob_door_a*p\n",
    "\n",
    "print(Total_pick_A_prob_door_c,Total_pick_B_prob_door_a , Total_pick_B_prob_door_c, Total_pick_C_prob_door_a )\n",
    "\n"
   ]
  },
  {
   "cell_type": "code",
   "execution_count": 70,
   "metadata": {},
   "outputs": [
    {
     "name": "stdout",
     "output_type": "stream",
     "text": [
      "     col\n",
      "0  0.330\n",
      "1  0.166\n",
      "2  0.166\n",
      "3  0.330\n"
     ]
    }
   ],
   "source": [
    "#create data frame for probabilites to do summary statistics\n",
    "data = { 'col' : [ '0.33', '0.166', '0.166', '0.33'] }\n",
    "frame = pd.DataFrame(data)\n",
    "frame = frame.astype(float) \n",
    "\n",
    "print(frame)"
   ]
  },
  {
   "cell_type": "code",
   "execution_count": 71,
   "metadata": {},
   "outputs": [
    {
     "data": {
      "text/html": [
       "<div>\n",
       "<style scoped>\n",
       "    .dataframe tbody tr th:only-of-type {\n",
       "        vertical-align: middle;\n",
       "    }\n",
       "\n",
       "    .dataframe tbody tr th {\n",
       "        vertical-align: top;\n",
       "    }\n",
       "\n",
       "    .dataframe thead th {\n",
       "        text-align: right;\n",
       "    }\n",
       "</style>\n",
       "<table border=\"1\" class=\"dataframe\">\n",
       "  <thead>\n",
       "    <tr style=\"text-align: right;\">\n",
       "      <th></th>\n",
       "      <th>col</th>\n",
       "    </tr>\n",
       "  </thead>\n",
       "  <tbody>\n",
       "    <tr>\n",
       "      <th>count</th>\n",
       "      <td>4.000000</td>\n",
       "    </tr>\n",
       "    <tr>\n",
       "      <th>mean</th>\n",
       "      <td>0.248000</td>\n",
       "    </tr>\n",
       "    <tr>\n",
       "      <th>std</th>\n",
       "      <td>0.094685</td>\n",
       "    </tr>\n",
       "    <tr>\n",
       "      <th>min</th>\n",
       "      <td>0.166000</td>\n",
       "    </tr>\n",
       "    <tr>\n",
       "      <th>25%</th>\n",
       "      <td>0.166000</td>\n",
       "    </tr>\n",
       "    <tr>\n",
       "      <th>50%</th>\n",
       "      <td>0.248000</td>\n",
       "    </tr>\n",
       "    <tr>\n",
       "      <th>75%</th>\n",
       "      <td>0.330000</td>\n",
       "    </tr>\n",
       "    <tr>\n",
       "      <th>max</th>\n",
       "      <td>0.330000</td>\n",
       "    </tr>\n",
       "  </tbody>\n",
       "</table>\n",
       "</div>"
      ],
      "text/plain": [
       "            col\n",
       "count  4.000000\n",
       "mean   0.248000\n",
       "std    0.094685\n",
       "min    0.166000\n",
       "25%    0.166000\n",
       "50%    0.248000\n",
       "75%    0.330000\n",
       "max    0.330000"
      ]
     },
     "execution_count": 71,
     "metadata": {},
     "output_type": "execute_result"
    }
   ],
   "source": [
    "#data mean and sd\n",
    "frame.describe()"
   ]
  },
  {
   "cell_type": "code",
   "execution_count": 9,
   "metadata": {},
   "outputs": [],
   "source": [
    "# add all probabilities \n",
    "total_p = Total_pick_A_prob_door_c + Total_pick_B_prob_door_a + Total_pick_B_prob_door_c +Total_pick_C_prob_door_a "
   ]
  },
  {
   "cell_type": "code",
   "execution_count": 10,
   "metadata": {},
   "outputs": [
    {
     "name": "stdout",
     "output_type": "stream",
     "text": [
      "1.0\n"
     ]
    }
   ],
   "source": [
    "print(total_p)"
   ]
  },
  {
   "cell_type": "code",
   "execution_count": 15,
   "metadata": {},
   "outputs": [
    {
     "name": "stdout",
     "output_type": "stream",
     "text": [
      "0.3333333333333333 0.6666666666666666\n"
     ]
    }
   ],
   "source": [
    "#stay_prob \n",
    "stay_prob_car = Total_pick_B_prob_door_a + Total_pick_B_prob_door_c\n",
    "stay_prob_goat = Total_pick_A_prob_door_c + Total_pick_C_prob_door_a\n",
    "\n",
    "print (stay_prob_car, stay_prob_goat)"
   ]
  },
  {
   "cell_type": "code",
   "execution_count": 43,
   "metadata": {},
   "outputs": [
    {
     "data": {
      "image/png": "[encoded data removed]",
      "text/plain": [
       "<Figure size 432x288 with 2 Axes>"
      ]
     },
     "metadata": {
      "needs_background": "light"
     },
     "output_type": "display_data"
    }
   ],
   "source": [
    " df_stay = pd.DataFrame({\n",
    "'stay_prob_car': [0.33],\n",
    "'stay_prob_goat': [0.66]}, index= ['stay_prob_goat'])\n",
    "hist = df.hist()"
   ]
  },
  {
   "cell_type": "code",
   "execution_count": 44,
   "metadata": {},
   "outputs": [
    {
     "name": "stdout",
     "output_type": "stream",
     "text": [
      "0.6666666666666666 0.3333333333333333\n"
     ]
    }
   ],
   "source": [
    "#switch_prob\n",
    "switch_prob_car = Total_pick_A_prob_door_c + Total_pick_C_prob_door_a\n",
    "switch_prob_goat = Total_pick_B_prob_door_a + Total_pick_B_prob_door_c\n",
    "print (switch_prob_car, switch_prob_goat)"
   ]
  },
  {
   "cell_type": "code",
   "execution_count": 40,
   "metadata": {},
   "outputs": [
    {
     "data": {
      "image/png": "[encoded data removed]",
      "text/plain": [
       "<Figure size 432x288 with 2 Axes>"
      ]
     },
     "metadata": {
      "needs_background": "light"
     },
     "output_type": "display_data"
    }
   ],
   "source": [
    " df_switch = pd.DataFrame({\n",
    "'switch_prob_car': [0.66],\n",
    "'switch_prob_goat': [0.33]}, index= ['switch_prob_car'])\n",
    "hist = df.hist()"
   ]
  },
  {
   "cell_type": "code",
   "execution_count": 55,
   "metadata": {},
   "outputs": [],
   "source": [
    "#we an see that by staying probability of getting a goat is higher\n",
    "# so we recommend switching"
   ]
  },
  {
   "cell_type": "code",
   "execution_count": null,
   "metadata": {},
   "outputs": [],
   "source": []
  }
 ],
 "metadata": {
  "kernelspec": {
   "display_name": "Python 3",
   "language": "python",
   "name": "python3"
  },
  "language_info": {
   "codemirror_mode": {
    "name": "ipython",
    "version": 3
   },
   "file_extension": ".py",
   "mimetype": "text/x-python",
   "name": "python",
   "nbconvert_exporter": "python",
   "pygments_lexer": "ipython3",
   "version": "3.7.4"
  }
 },
 "nbformat": 4,
 "nbformat_minor": 2
}
